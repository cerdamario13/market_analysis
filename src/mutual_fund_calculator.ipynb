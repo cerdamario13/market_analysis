{
 "cells": [
  {
   "cell_type": "markdown",
   "metadata": {},
   "source": [
    "# Mutual Fund Calculator <br>\n",
    "In this notebook, we will learn how to calculate the potential returns on a mutual fund. <br>"
   ]
  },
  {
   "cell_type": "code",
   "execution_count": 1,
   "metadata": {},
   "outputs": [],
   "source": [
    "# Importing the libraries we will use\n",
    "import pandas_datareader as pdr\n",
    "import datetime\n",
    "import pandas as pd\n",
    "import matplotlib.pyplot as plt\n",
    "import dateutil.relativedelta"
   ]
  },
  {
   "cell_type": "markdown",
   "metadata": {},
   "source": [
    "### Find the historical performance of the Fund <br>\n",
    "First, we need to find the historical performance of the fund. To get historical data, we will use yahoo finance. We will use *Average Rate of Return* and *Rolling Returns*"
   ]
  },
  {
   "cell_type": "markdown",
   "metadata": {},
   "source": [
    "First, lets import the data for a mutal fund. <br>\n",
    "We will only be working with closing values"
   ]
  },
  {
   "cell_type": "code",
   "execution_count": 2,
   "metadata": {},
   "outputs": [],
   "source": [
    "ticker = 'AAPL'\n",
    "fund = pdr.get_data_yahoo(ticker, \n",
    "                          start=datetime.datetime(2020, 1, 1), \n",
    "                          end=datetime.datetime(2022, 3, 13))\n",
    "fund.reset_index(inplace=True)"
   ]
  },
  {
   "cell_type": "code",
   "execution_count": 3,
   "metadata": {
    "scrolled": true
   },
   "outputs": [
    {
     "name": "stderr",
     "output_type": "stream",
     "text": [
      "C:\\Users\\cerda\\AppData\\Local\\Temp/ipykernel_22352/2019929601.py:4: SettingWithCopyWarning: \n",
      "A value is trying to be set on a copy of a slice from a DataFrame.\n",
      "Try using .loc[row_indexer,col_indexer] = value instead\n",
      "\n",
      "See the caveats in the documentation: https://pandas.pydata.org/pandas-docs/stable/user_guide/indexing.html#returning-a-view-versus-a-copy\n",
      "  fund_close['Date'] = pd.to_datetime(fund_close['Date'], format='%Y-%m-%d')\n",
      "C:\\Users\\cerda\\AppData\\Local\\Temp/ipykernel_22352/2019929601.py:6: SettingWithCopyWarning: \n",
      "A value is trying to be set on a copy of a slice from a DataFrame.\n",
      "Try using .loc[row_indexer,col_indexer] = value instead\n",
      "\n",
      "See the caveats in the documentation: https://pandas.pydata.org/pandas-docs/stable/user_guide/indexing.html#returning-a-view-versus-a-copy\n",
      "  fund_close['Year'] = pd.DatetimeIndex(fund_close['Date']).year\n"
     ]
    },
    {
     "data": {
      "text/html": [
       "<div>\n",
       "<style scoped>\n",
       "    .dataframe tbody tr th:only-of-type {\n",
       "        vertical-align: middle;\n",
       "    }\n",
       "\n",
       "    .dataframe tbody tr th {\n",
       "        vertical-align: top;\n",
       "    }\n",
       "\n",
       "    .dataframe thead th {\n",
       "        text-align: right;\n",
       "    }\n",
       "</style>\n",
       "<table border=\"1\" class=\"dataframe\">\n",
       "  <thead>\n",
       "    <tr style=\"text-align: right;\">\n",
       "      <th></th>\n",
       "      <th>Date</th>\n",
       "      <th>Close</th>\n",
       "      <th>Year</th>\n",
       "    </tr>\n",
       "  </thead>\n",
       "  <tbody>\n",
       "    <tr>\n",
       "      <th>0</th>\n",
       "      <td>2020-01-02</td>\n",
       "      <td>75.087502</td>\n",
       "      <td>2020</td>\n",
       "    </tr>\n",
       "    <tr>\n",
       "      <th>1</th>\n",
       "      <td>2020-01-03</td>\n",
       "      <td>74.357498</td>\n",
       "      <td>2020</td>\n",
       "    </tr>\n",
       "    <tr>\n",
       "      <th>2</th>\n",
       "      <td>2020-01-06</td>\n",
       "      <td>74.949997</td>\n",
       "      <td>2020</td>\n",
       "    </tr>\n",
       "    <tr>\n",
       "      <th>3</th>\n",
       "      <td>2020-01-07</td>\n",
       "      <td>74.597504</td>\n",
       "      <td>2020</td>\n",
       "    </tr>\n",
       "    <tr>\n",
       "      <th>4</th>\n",
       "      <td>2020-01-08</td>\n",
       "      <td>75.797501</td>\n",
       "      <td>2020</td>\n",
       "    </tr>\n",
       "    <tr>\n",
       "      <th>...</th>\n",
       "      <td>...</td>\n",
       "      <td>...</td>\n",
       "      <td>...</td>\n",
       "    </tr>\n",
       "    <tr>\n",
       "      <th>548</th>\n",
       "      <td>2022-03-07</td>\n",
       "      <td>159.300003</td>\n",
       "      <td>2022</td>\n",
       "    </tr>\n",
       "    <tr>\n",
       "      <th>549</th>\n",
       "      <td>2022-03-08</td>\n",
       "      <td>157.440002</td>\n",
       "      <td>2022</td>\n",
       "    </tr>\n",
       "    <tr>\n",
       "      <th>550</th>\n",
       "      <td>2022-03-09</td>\n",
       "      <td>162.949997</td>\n",
       "      <td>2022</td>\n",
       "    </tr>\n",
       "    <tr>\n",
       "      <th>551</th>\n",
       "      <td>2022-03-10</td>\n",
       "      <td>158.520004</td>\n",
       "      <td>2022</td>\n",
       "    </tr>\n",
       "    <tr>\n",
       "      <th>552</th>\n",
       "      <td>2022-03-11</td>\n",
       "      <td>154.729996</td>\n",
       "      <td>2022</td>\n",
       "    </tr>\n",
       "  </tbody>\n",
       "</table>\n",
       "<p>553 rows × 3 columns</p>\n",
       "</div>"
      ],
      "text/plain": [
       "          Date       Close  Year\n",
       "0   2020-01-02   75.087502  2020\n",
       "1   2020-01-03   74.357498  2020\n",
       "2   2020-01-06   74.949997  2020\n",
       "3   2020-01-07   74.597504  2020\n",
       "4   2020-01-08   75.797501  2020\n",
       "..         ...         ...   ...\n",
       "548 2022-03-07  159.300003  2022\n",
       "549 2022-03-08  157.440002  2022\n",
       "550 2022-03-09  162.949997  2022\n",
       "551 2022-03-10  158.520004  2022\n",
       "552 2022-03-11  154.729996  2022\n",
       "\n",
       "[553 rows x 3 columns]"
      ]
     },
     "execution_count": 3,
     "metadata": {},
     "output_type": "execute_result"
    }
   ],
   "source": [
    "# Using only the close information of the fund.\n",
    "# Also, converting the Date column to type(Date) in pandas\n",
    "fund_close = fund[['Date', 'Close']]\n",
    "fund_close['Date'] = pd.to_datetime(fund_close['Date'], format='%Y-%m-%d')\n",
    "# Adding a column of year to better separate the data\n",
    "fund_close['Year'] = pd.DatetimeIndex(fund_close['Date']).year\n",
    "# Grouping the data by years\n",
    "years = fund_close.groupby('Year')\n",
    "list_years = list(years.groups.keys())\n",
    "fund_close"
   ]
  },
  {
   "cell_type": "code",
   "execution_count": 4,
   "metadata": {},
   "outputs": [
    {
     "name": "stdout",
     "output_type": "stream",
     "text": [
      "[2020, 2021, 2022]\n"
     ]
    }
   ],
   "source": [
    "print(list_years[:])"
   ]
  },
  {
   "cell_type": "markdown",
   "metadata": {},
   "source": [
    "### Calculating the Average Rate of Return <br>\n",
    "Average Rare of return is shown typically as a percentage. One thing to note, ARR may not show how consistenly an investment produces the stated percentage. Since we are using an average, it may hide numerous outliers in the data."
   ]
  },
  {
   "cell_type": "code",
   "execution_count": 5,
   "metadata": {},
   "outputs": [
    {
     "name": "stdout",
     "output_type": "stream",
     "text": [
      "Average Annual Rate of Return: 32.98%, Since inception.\n"
     ]
    }
   ],
   "source": [
    "# Yearly rate of return since beginning\n",
    "yrr = []\n",
    "for x in list_years:\n",
    "    a = years.get_group(x).iloc[0]['Close']\n",
    "    b = years.get_group(x).iloc[-1]['Close']\n",
    "    y = ((b - a) / a) * 100\n",
    "    yrr.append(y)\n",
    "\n",
    "#Average Rate of Return\n",
    "arr = sum(yrr) / len(yrr)\n",
    "print(f'Average Annual Rate of Return: {round(arr, 2)}%, Since inception.')\n"
   ]
  },
  {
   "cell_type": "markdown",
   "metadata": {},
   "source": [
    "#### Plotting annual rate of returns\n"
   ]
  },
  {
   "cell_type": "code",
   "execution_count": 6,
   "metadata": {},
   "outputs": [
    {
     "data": {
      "image/png": "[encoded data removed]",
      "text/plain": [
       "<Figure size 432x288 with 1 Axes>"
      ]
     },
     "metadata": {
      "needs_background": "light"
     },
     "output_type": "display_data"
    }
   ],
   "source": [
    "fig = plt.figure()\n",
    "plt.plot(list_years, yrr)\n",
    "plt.grid(True)\n",
    "plt.title('Average Rate of Return')\n",
    "plt.xlabel('Years')\n",
    "plt.ylabel('Rate')\n",
    "plt.show()"
   ]
  },
  {
   "cell_type": "markdown",
   "metadata": {},
   "source": [
    "### Plotting All Hostorical Data"
   ]
  },
  {
   "cell_type": "code",
   "execution_count": 7,
   "metadata": {},
   "outputs": [
    {
     "name": "stdout",
     "output_type": "stream",
     "text": [
      "Date one month ago: 2021-12-24\n",
      "--------------\n"
     ]
    },
    {
     "data": {
      "text/html": [
       "<div>\n",
       "<style scoped>\n",
       "    .dataframe tbody tr th:only-of-type {\n",
       "        vertical-align: middle;\n",
       "    }\n",
       "\n",
       "    .dataframe tbody tr th {\n",
       "        vertical-align: top;\n",
       "    }\n",
       "\n",
       "    .dataframe thead th {\n",
       "        text-align: right;\n",
       "    }\n",
       "</style>\n",
       "<table border=\"1\" class=\"dataframe\">\n",
       "  <thead>\n",
       "    <tr style=\"text-align: right;\">\n",
       "      <th></th>\n",
       "      <th>Date</th>\n",
       "      <th>Close</th>\n",
       "      <th>Year</th>\n",
       "    </tr>\n",
       "  </thead>\n",
       "  <tbody>\n",
       "    <tr>\n",
       "      <th>500</th>\n",
       "      <td>2021-12-27</td>\n",
       "      <td>180.330002</td>\n",
       "      <td>2021</td>\n",
       "    </tr>\n",
       "  </tbody>\n",
       "</table>\n",
       "</div>"
      ],
      "text/plain": [
       "          Date       Close  Year\n",
       "500 2021-12-27  180.330002  2021"
      ]
     },
     "execution_count": 7,
     "metadata": {},
     "output_type": "execute_result"
    }
   ],
   "source": [
    "today = datetime.date(2022, 4, 6)\n",
    "\n",
    "# We want only days of the week (Should only appply when going back one month)\n",
    "\n",
    "# # If the day fall on a Sunday, then add a day\n",
    "# if (today.weekday() == 6):\n",
    "#     today = today + dateutil.relativedelta.relativedelta(days=1)\n",
    "\n",
    "# # If the day fall on a Saturday then subtract a day\n",
    "# elif(today.weekday() == 5):\n",
    "#     today = today - dateutil.relativedelta.relativedelta(days=1)\n",
    "\n",
    "\n",
    "m_1 = today - dateutil.relativedelta.relativedelta(months=1) # Subtracting one month to the a Month ago date (Only for Weekdays)\n",
    "# If the day fall on a Sunday, then add a day\n",
    "if (m_1.weekday() == 6):\n",
    "    m_1 = m_1 + dateutil.relativedelta.relativedelta(days=1)\n",
    "\n",
    "# If the day fall on a Saturday then subtract a day\n",
    "elif(m_1.weekday() == 5):\n",
    "    m_1 = m_1 - dateutil.relativedelta.relativedelta(days=1)\n",
    "\n",
    "\n",
    "mask = fund_close['Date'] == str(m_1)\n",
    "print(f'Date one month ago: {m_1}')\n",
    "print('--------------')\n",
    "\n",
    "# Dealing with market closures when looking for a data (Market is closeded weekend and US Holidays)\n",
    "count = 0\n",
    "while(fund_close[mask].empty):\n",
    "    m_1 = m_1 + dateutil.relativedelta.relativedelta(days=1)\n",
    "    mask = fund_close['Date'] == str(m_1)\n",
    "    count += 1\n",
    "\n",
    "    # Seafety break\n",
    "    if (count == 20):\n",
    "        print('Loop Break!')\n",
    "        break\n",
    "fund_close[mask]\n"
   ]
  },
  {
   "cell_type": "code",
   "execution_count": 8,
   "metadata": {},
   "outputs": [
    {
     "data": {
      "image/png": "[encoded data removed]",
      "text/plain": [
       "<Figure size 432x288 with 1 Axes>"
      ]
     },
     "metadata": {
      "needs_background": "light"
     },
     "output_type": "display_data"
    },
    {
     "name": "stdout",
     "output_type": "stream",
     "text": [
      "\n"
     ]
    }
   ],
   "source": [
    "fig = plt.figure()\n",
    "plt.plot(fund_close['Date'], fund_close['Close'])\n",
    "plt.grid(True)\n",
    "plt.title(f'{ticker} all closing data')\n",
    "plt.xlabel('Date')\n",
    "plt.ylabel('Price')\n",
    "plt.show()\n",
    "print()"
   ]
  },
  {
   "cell_type": "markdown",
   "metadata": {},
   "source": [
    "### Calculating Rolling Return <br>\n",
    "Rolling returns (rolling period returns), are annualized average returns for a period of time wnding with the listed year. Rolling returns are useful for examining the behavior of returns for holdid periods, similar to those actually experinced by inverstors. <br>\n",
    "source: [Investopedia](https://www.investopedia.com/terms/r/rollingreturns.asp)"
   ]
  },
  {
   "cell_type": "code",
   "execution_count": 9,
   "metadata": {},
   "outputs": [
    {
     "data": {
      "text/html": [
       "<div>\n",
       "<style scoped>\n",
       "    .dataframe tbody tr th:only-of-type {\n",
       "        vertical-align: middle;\n",
       "    }\n",
       "\n",
       "    .dataframe tbody tr th {\n",
       "        vertical-align: top;\n",
       "    }\n",
       "\n",
       "    .dataframe thead th {\n",
       "        text-align: right;\n",
       "    }\n",
       "</style>\n",
       "<table border=\"1\" class=\"dataframe\">\n",
       "  <thead>\n",
       "    <tr style=\"text-align: right;\">\n",
       "      <th></th>\n",
       "      <th>Ticker</th>\n",
       "      <th>1-Year</th>\n",
       "      <th>3-Year</th>\n",
       "      <th>5-Year</th>\n",
       "      <th>10-Year</th>\n",
       "      <th>15-Year</th>\n",
       "    </tr>\n",
       "  </thead>\n",
       "  <tbody>\n",
       "    <tr>\n",
       "      <th>0</th>\n",
       "      <td>AAPL</td>\n",
       "      <td>-14.99</td>\n",
       "      <td>32.98</td>\n",
       "      <td>32.98</td>\n",
       "      <td>32.98</td>\n",
       "      <td>32.98</td>\n",
       "    </tr>\n",
       "  </tbody>\n",
       "</table>\n",
       "</div>"
      ],
      "text/plain": [
       "  Ticker  1-Year  3-Year  5-Year  10-Year  15-Year\n",
       "0   AAPL  -14.99   32.98   32.98    32.98    32.98"
      ]
     },
     "execution_count": 9,
     "metadata": {},
     "output_type": "execute_result"
    }
   ],
   "source": [
    "# More information on arr\n",
    "arr_1 = round(yrr[-1], 2)\n",
    "arr_3 = round(sum(yrr[-3:])/len(yrr[-3:]), 2)\n",
    "arr_5 = round(sum(yrr[-5:])/len(yrr[-5:]), 2)\n",
    "arr_10 = round(sum(yrr[-10:])/len(yrr[-10:]), 2)\n",
    "arr_15 = round(sum(yrr[-15:])/len(yrr[-15:]), 2)\n",
    "data = [{'Ticker': ticker ,'1-Year': arr_1, '3-Year': arr_3, '5-Year': arr_5, '10-Year': arr_10, '15-Year' : arr_15}]\n",
    "df1 = pd.DataFrame(data)\n",
    "df1\n"
   ]
  },
  {
   "cell_type": "markdown",
   "metadata": {},
   "source": []
  }
 ],
 "metadata": {
  "interpreter": {
   "hash": "36aebc9dea34d0897cb9ac1c59ed116ccd03b31354ef30a52ce6250c803e1443"
  },
  "kernelspec": {
   "display_name": "Python 3 (ipykernel)",
   "language": "python",
   "name": "python3"
  },
  "language_info": {
   "codemirror_mode": {
    "name": "ipython",
    "version": 3
   },
   "file_extension": ".py",
   "mimetype": "text/x-python",
   "name": "python",
   "nbconvert_exporter": "python",
   "pygments_lexer": "ipython3",
   "version": "3.9.12"
  }
 },
 "nbformat": 4,
 "nbformat_minor": 2
}
