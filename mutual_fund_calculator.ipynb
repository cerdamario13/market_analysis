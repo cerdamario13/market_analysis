{
 "cells": [
  {
   "cell_type": "markdown",
   "metadata": {},
   "source": [
    "# Mutual Fund Calculator <br>\n",
    "In this notebook, we will learn how to calculate the potential returns on a mutual fund. <br>"
   ]
  },
  {
   "cell_type": "code",
   "execution_count": 22,
   "metadata": {},
   "outputs": [],
   "source": [
    "# Importing the libraries we will use\n",
    "import pandas_datareader as pdr\n",
    "import datetime\n",
    "import pandas as pd\n",
    "import matplotlib.pyplot as plt\n",
    "import numpy as np"
   ]
  },
  {
   "cell_type": "markdown",
   "metadata": {},
   "source": [
    "### Find the historical performance of the Fund <br>\n",
    "First, we need to find the historical performance of the fund. To get historical data, we will use yahoo finance. We will use *Average Rate of Return* and *Rolling Returns*"
   ]
  },
  {
   "cell_type": "markdown",
   "metadata": {},
   "source": [
    "First, lets import the data for a mutal fund. <br>\n",
    "We will only be working with closing values"
   ]
  },
  {
   "cell_type": "code",
   "execution_count": 2,
   "metadata": {},
   "outputs": [],
   "source": [
    "fund = pdr.get_data_yahoo('VFIAX', \n",
    "                          start=datetime.datetime(2000, 12, 1), \n",
    "                          end=datetime.date.today())\n",
    "fund.reset_index(inplace=True)"
   ]
  },
  {
   "cell_type": "code",
   "execution_count": 3,
   "metadata": {},
   "outputs": [
    {
     "name": "stderr",
     "output_type": "stream",
     "text": [
      "C:\\Users\\cerda\\AppData\\Local\\Temp/ipykernel_20064/18247799.py:4: SettingWithCopyWarning: \n",
      "A value is trying to be set on a copy of a slice from a DataFrame.\n",
      "Try using .loc[row_indexer,col_indexer] = value instead\n",
      "\n",
      "See the caveats in the documentation: https://pandas.pydata.org/pandas-docs/stable/user_guide/indexing.html#returning-a-view-versus-a-copy\n",
      "  fund_close['Date'] = pd.to_datetime(fund_close['Date'], format='%Y-%m-%d')\n"
     ]
    }
   ],
   "source": [
    "# Using only the close information of the fund.\n",
    "# Also, converting the Date column to type(Date) in pandas\n",
    "fund_close = fund[['Date', 'Close']]\n",
    "fund_close['Date'] = pd.to_datetime(fund_close['Date'], format='%Y-%m-%d')"
   ]
  },
  {
   "cell_type": "code",
   "execution_count": 4,
   "metadata": {},
   "outputs": [
    {
     "name": "stderr",
     "output_type": "stream",
     "text": [
      "C:\\Users\\cerda\\AppData\\Local\\Temp/ipykernel_20064/4192380731.py:2: SettingWithCopyWarning: \n",
      "A value is trying to be set on a copy of a slice from a DataFrame.\n",
      "Try using .loc[row_indexer,col_indexer] = value instead\n",
      "\n",
      "See the caveats in the documentation: https://pandas.pydata.org/pandas-docs/stable/user_guide/indexing.html#returning-a-view-versus-a-copy\n",
      "  fund_close['Year'] = pd.DatetimeIndex(fund_close['Date']).year\n"
     ]
    }
   ],
   "source": [
    "# Adding a column of year to better separate the data\n",
    "fund_close['Year'] = pd.DatetimeIndex(fund_close['Date']).year\n",
    "# Grouping the data by years\n",
    "years = fund_close.groupby('Year')\n",
    "list_years = list(years.groups.keys())"
   ]
  },
  {
   "cell_type": "markdown",
   "metadata": {},
   "source": [
    "### Calculating the Average Rate of Return <br>\n",
    "Average Rare of return is shown typically as a percentage. One thing to note, ARR may not show how consistenly an investment produces the stated percentage. Since we are using an average, it may hide numerous outliers in the data."
   ]
  },
  {
   "cell_type": "code",
   "execution_count": 5,
   "metadata": {},
   "outputs": [],
   "source": [
    "# Yearly rate of return since beginning\n",
    "yrr = []\n",
    "for x in list_years:\n",
    "    a = years.get_group(x).iloc[0]['Close']\n",
    "    b = years.get_group(x).iloc[-1]['Close']\n",
    "    y = ((b - a) / a) * 100\n",
    "    yrr.append(y)\n"
   ]
  },
  {
   "cell_type": "code",
   "execution_count": 14,
   "metadata": {},
   "outputs": [
    {
     "data": {
      "text/plain": [
       "[2000,\n",
       " 2001,\n",
       " 2002,\n",
       " 2003,\n",
       " 2004,\n",
       " 2005,\n",
       " 2006,\n",
       " 2007,\n",
       " 2008,\n",
       " 2009,\n",
       " 2010,\n",
       " 2011,\n",
       " 2012,\n",
       " 2013,\n",
       " 2014,\n",
       " 2015,\n",
       " 2016,\n",
       " 2017,\n",
       " 2018,\n",
       " 2019,\n",
       " 2020,\n",
       " 2021,\n",
       " 2022]"
      ]
     },
     "execution_count": 14,
     "metadata": {},
     "output_type": "execute_result"
    }
   ],
   "source": [
    "#Average Rate of Return\n",
    "arr = sum(yrr) / len(yrr)\n",
    "round(arr, 4)"
   ]
  },
  {
   "cell_type": "markdown",
   "metadata": {},
   "source": [
    "#### Plotting annual rate of returns\n"
   ]
  },
  {
   "cell_type": "code",
   "execution_count": 25,
   "metadata": {},
   "outputs": [
    {
     "data": {
      "image/png": "[encoded data removed]",
      "text/plain": [
       "<Figure size 432x288 with 1 Axes>"
      ]
     },
     "metadata": {
      "needs_background": "light"
     },
     "output_type": "display_data"
    }
   ],
   "source": [
    "fig = plt.figure()\n",
    "plt.plot(list_years, yrr)\n",
    "plt.grid(True)\n",
    "plt.show()"
   ]
  },
  {
   "cell_type": "code",
   "execution_count": null,
   "metadata": {},
   "outputs": [],
   "source": []
  }
 ],
 "metadata": {
  "interpreter": {
   "hash": "36aebc9dea34d0897cb9ac1c59ed116ccd03b31354ef30a52ce6250c803e1443"
  },
  "kernelspec": {
   "display_name": "Python 3.9.9 64-bit (windows store)",
   "language": "python",
   "name": "python3"
  },
  "language_info": {
   "codemirror_mode": {
    "name": "ipython",
    "version": 3
   },
   "file_extension": ".py",
   "mimetype": "text/x-python",
   "name": "python",
   "nbconvert_exporter": "python",
   "pygments_lexer": "ipython3",
   "version": "3.9.9"
  },
  "orig_nbformat": 4
 },
 "nbformat": 4,
 "nbformat_minor": 2
}
