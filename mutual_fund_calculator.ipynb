{
 "cells": [
  {
   "cell_type": "markdown",
   "metadata": {},
   "source": [
    "# Mutual Fund Calculator <br>\n",
    "In this notebook, we will learn how to calculate the potential returns on a mutual fund. <br>"
   ]
  },
  {
   "cell_type": "code",
   "execution_count": 1,
   "metadata": {},
   "outputs": [],
   "source": [
    "# Importing the libraries we will use\n",
    "import pandas_datareader as pdr\n",
    "import datetime\n",
    "import pandas as pd\n",
    "import matplotlib.pyplot as plt\n",
    "import numpy as np"
   ]
  },
  {
   "cell_type": "markdown",
   "metadata": {},
   "source": [
    "### Find the historical performance of the Fund <br>\n",
    "First, we need to find the historical performance of the fund. To get historical data, we will use yahoo finance. We will use *Average Rate of Return* and *Rolling Returns*"
   ]
  },
  {
   "cell_type": "markdown",
   "metadata": {},
   "source": [
    "First, lets import the data for a mutal fund. <br>\n",
    "We will only be working with closing values"
   ]
  },
  {
   "cell_type": "code",
   "execution_count": 2,
   "metadata": {},
   "outputs": [],
   "source": [
    "ticker = 'VFIAX'\n",
    "fund = pdr.get_data_yahoo(ticker, \n",
    "                          start=datetime.datetime(2000, 1, 1), \n",
    "                          end=datetime.date.today())\n",
    "fund.reset_index(inplace=True)"
   ]
  },
  {
   "cell_type": "code",
   "execution_count": 3,
   "metadata": {
    "scrolled": true
   },
   "outputs": [
    {
     "name": "stderr",
     "output_type": "stream",
     "text": [
      "C:\\Users\\cerda\\AppData\\Local\\Temp/ipykernel_9224/544477792.py:4: SettingWithCopyWarning: \n",
      "A value is trying to be set on a copy of a slice from a DataFrame.\n",
      "Try using .loc[row_indexer,col_indexer] = value instead\n",
      "\n",
      "See the caveats in the documentation: https://pandas.pydata.org/pandas-docs/stable/user_guide/indexing.html#returning-a-view-versus-a-copy\n",
      "  fund_close['Date'] = pd.to_datetime(fund_close['Date'], format='%Y-%m-%d')\n",
      "C:\\Users\\cerda\\AppData\\Local\\Temp/ipykernel_9224/544477792.py:6: SettingWithCopyWarning: \n",
      "A value is trying to be set on a copy of a slice from a DataFrame.\n",
      "Try using .loc[row_indexer,col_indexer] = value instead\n",
      "\n",
      "See the caveats in the documentation: https://pandas.pydata.org/pandas-docs/stable/user_guide/indexing.html#returning-a-view-versus-a-copy\n",
      "  fund_close['Year'] = pd.DatetimeIndex(fund_close['Date']).year\n"
     ]
    }
   ],
   "source": [
    "# Using only the close information of the fund.\n",
    "# Also, converting the Date column to type(Date) in pandas\n",
    "fund_close = fund[['Date', 'Close']]\n",
    "fund_close['Date'] = pd.to_datetime(fund_close['Date'], format='%Y-%m-%d')\n",
    "# Adding a column of year to better separate the data\n",
    "fund_close['Year'] = pd.DatetimeIndex(fund_close['Date']).year\n",
    "# Grouping the data by years\n",
    "years = fund_close.groupby('Year')\n",
    "list_years = list(years.groups.keys())"
   ]
  },
  {
   "cell_type": "markdown",
   "metadata": {},
   "source": [
    "### Calculating the Average Rate of Return <br>\n",
    "Average Rare of return is shown typically as a percentage. One thing to note, ARR may not show how consistenly an investment produces the stated percentage. Since we are using an average, it may hide numerous outliers in the data."
   ]
  },
  {
   "cell_type": "code",
   "execution_count": 4,
   "metadata": {},
   "outputs": [],
   "source": [
    "# Yearly rate of return since beginning\n",
    "yrr = []\n",
    "for x in list_years:\n",
    "    a = years.get_group(x).iloc[0]['Close']\n",
    "    b = years.get_group(x).iloc[-1]['Close']\n",
    "    y = ((b - a) / a) * 100\n",
    "    yrr.append(y)\n",
    "\n",
    "#Average Rate of Return\n",
    "arr = sum(yrr) / len(yrr)\n"
   ]
  },
  {
   "cell_type": "markdown",
   "metadata": {},
   "source": [
    "#### Plotting annual rate of returns\n"
   ]
  },
  {
   "cell_type": "code",
   "execution_count": 5,
   "metadata": {},
   "outputs": [
    {
     "data": {
      "image/png": "[encoded data removed]",
      "text/plain": [
       "<Figure size 432x288 with 1 Axes>"
      ]
     },
     "metadata": {
      "needs_background": "light"
     },
     "output_type": "display_data"
    }
   ],
   "source": [
    "fig = plt.figure()\n",
    "plt.plot(list_years, yrr)\n",
    "plt.grid(True)\n",
    "plt.title('Average Rate of Return')\n",
    "plt.xlabel('Years')\n",
    "plt.ylabel('Rate')\n",
    "plt.show()"
   ]
  },
  {
   "cell_type": "markdown",
   "metadata": {},
   "source": [
    "### Calculating Rolling Return <br>\n",
    "Rolling returns (rolling period returns), are annualized average returns for a period of time wnding with the listed year. Rolling returns are useful for examining the behavior of returns for holdid periods, similar to those actually experinced by inverstors. <br>\n",
    "source: [Investopedia](https://www.investopedia.com/terms/r/rollingreturns.asp)"
   ]
  },
  {
   "cell_type": "code",
   "execution_count": 6,
   "metadata": {},
   "outputs": [
    {
     "data": {
      "text/html": [
       "<div>\n",
       "<style scoped>\n",
       "    .dataframe tbody tr th:only-of-type {\n",
       "        vertical-align: middle;\n",
       "    }\n",
       "\n",
       "    .dataframe tbody tr th {\n",
       "        vertical-align: top;\n",
       "    }\n",
       "\n",
       "    .dataframe thead th {\n",
       "        text-align: right;\n",
       "    }\n",
       "</style>\n",
       "<table border=\"1\" class=\"dataframe\">\n",
       "  <thead>\n",
       "    <tr style=\"text-align: right;\">\n",
       "      <th></th>\n",
       "      <th>Ticker</th>\n",
       "      <th>1-Year</th>\n",
       "      <th>3-Year</th>\n",
       "      <th>5-Year</th>\n",
       "      <th>10-Year</th>\n",
       "    </tr>\n",
       "  </thead>\n",
       "  <tbody>\n",
       "    <tr>\n",
       "      <th>0</th>\n",
       "      <td>VFIAX</td>\n",
       "      <td>-2.74</td>\n",
       "      <td>13.78</td>\n",
       "      <td>12.6</td>\n",
       "      <td>13.09</td>\n",
       "    </tr>\n",
       "  </tbody>\n",
       "</table>\n",
       "</div>"
      ],
      "text/plain": [
       "  Ticker  1-Year  3-Year  5-Year  10-Year\n",
       "0  VFIAX   -2.74   13.78    12.6    13.09"
      ]
     },
     "execution_count": 6,
     "metadata": {},
     "output_type": "execute_result"
    }
   ],
   "source": [
    "# More information on arr\n",
    "arr_1 = round(yrr[-1], 2)\n",
    "arr_3 = round(sum(yrr[-3:])/len(yrr[-3:]), 2)\n",
    "arr_5 = round(sum(yrr[-5:])/len(yrr[-5:]), 2)\n",
    "arr_10 = round(sum(yrr[-10:])/len(yrr[-10:]), 2)\n",
    "data = [{'Ticker': ticker ,'1-Year': arr_1, '3-Year': arr_3, '5-Year': arr_5, '10-Year': arr_10}]\n",
    "df1 = pd.DataFrame(data)\n",
    "df1\n"
   ]
  },
  {
   "cell_type": "code",
   "execution_count": null,
   "metadata": {},
   "outputs": [],
   "source": []
  }
 ],
 "metadata": {
  "interpreter": {
   "hash": "36aebc9dea34d0897cb9ac1c59ed116ccd03b31354ef30a52ce6250c803e1443"
  },
  "kernelspec": {
   "display_name": "Python 3 (ipykernel)",
   "language": "python",
   "name": "python3"
  },
  "language_info": {
   "codemirror_mode": {
    "name": "ipython",
    "version": 3
   },
   "file_extension": ".py",
   "mimetype": "text/x-python",
   "name": "python",
   "nbconvert_exporter": "python",
   "pygments_lexer": "ipython3",
   "version": "3.9.9"
  }
 },
 "nbformat": 4,
 "nbformat_minor": 2
}
