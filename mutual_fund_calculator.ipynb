{
 "cells": [
  {
   "cell_type": "markdown",
   "metadata": {},
   "source": [
    "# Mutual Fund Calculator <br>\n",
    "In this notebook, we will learn how to calculate the potential returns on a mutual fund. <br>"
   ]
  },
  {
   "cell_type": "code",
   "execution_count": 68,
   "metadata": {},
   "outputs": [],
   "source": [
    "# Importing the libraries we will use\n",
    "import pandas_datareader as pdr\n",
    "import datetime\n",
    "import pandas as pd"
   ]
  },
  {
   "cell_type": "markdown",
   "metadata": {},
   "source": [
    "### Find the historical performance of the Fund <br>\n",
    "First, we need to find the historical performance of the fund. To get historical data, we will use yahoo finance. We will use *Average Rate of Return* and *Rolling Returns*"
   ]
  },
  {
   "cell_type": "markdown",
   "metadata": {},
   "source": [
    "First, lets import the data for a mutal fund. <br>\n",
    "We will only be working with closing values"
   ]
  },
  {
   "cell_type": "code",
   "execution_count": 69,
   "metadata": {},
   "outputs": [],
   "source": [
    "fund = pdr.get_data_yahoo('VFIAX', \n",
    "                          start=datetime.datetime(2000, 12, 1), \n",
    "                          end=datetime.date.today())\n",
    "fund.reset_index(inplace=True)"
   ]
  },
  {
   "cell_type": "code",
   "execution_count": 70,
   "metadata": {},
   "outputs": [
    {
     "name": "stderr",
     "output_type": "stream",
     "text": [
      "C:\\Users\\cerda\\AppData\\Local\\Temp/ipykernel_1516/18247799.py:4: SettingWithCopyWarning: \n",
      "A value is trying to be set on a copy of a slice from a DataFrame.\n",
      "Try using .loc[row_indexer,col_indexer] = value instead\n",
      "\n",
      "See the caveats in the documentation: https://pandas.pydata.org/pandas-docs/stable/user_guide/indexing.html#returning-a-view-versus-a-copy\n",
      "  fund_close['Date'] = pd.to_datetime(fund_close['Date'], format='%Y-%m-%d')\n"
     ]
    }
   ],
   "source": [
    "# Using only the close information of the fund.\n",
    "# Also, converting the Date column to type(Date) in pandas\n",
    "fund_close = fund[['Date', 'Close']]\n",
    "fund_close['Date'] = pd.to_datetime(fund_close['Date'], format='%Y-%m-%d')"
   ]
  },
  {
   "cell_type": "code",
   "execution_count": 71,
   "metadata": {},
   "outputs": [
    {
     "name": "stderr",
     "output_type": "stream",
     "text": [
      "C:\\Users\\cerda\\AppData\\Local\\Temp/ipykernel_1516/4192380731.py:2: SettingWithCopyWarning: \n",
      "A value is trying to be set on a copy of a slice from a DataFrame.\n",
      "Try using .loc[row_indexer,col_indexer] = value instead\n",
      "\n",
      "See the caveats in the documentation: https://pandas.pydata.org/pandas-docs/stable/user_guide/indexing.html#returning-a-view-versus-a-copy\n",
      "  fund_close['Year'] = pd.DatetimeIndex(fund_close['Date']).year\n"
     ]
    }
   ],
   "source": [
    "# Adding a column of year to better separate the data\n",
    "fund_close['Year'] = pd.DatetimeIndex(fund_close['Date']).year\n",
    "# Grouping the data by years\n",
    "years = fund_close.groupby('Year')\n",
    "list_years = list(years.groups.keys())"
   ]
  },
  {
   "cell_type": "markdown",
   "metadata": {},
   "source": [
    "### Calculating the Average Rate of Return <br>\n",
    "Average Rare of return is shown typically as a percentage. One thing to note, ARR may not show how consistenly an investment produces the stated percentage. Since we are using an average, it may hide numerous outliers in the data."
   ]
  },
  {
   "cell_type": "code",
   "execution_count": 100,
   "metadata": {},
   "outputs": [],
   "source": [
    "# Yearly rate of return since beginning\n",
    "yrr = []\n",
    "for x in list_years:\n",
    "    a = years.get_group(x).iloc[0]['Close']\n",
    "    b = years.get_group(x).iloc[-1]['Close']\n",
    "    y = ((b - a) / a) * 100\n",
    "    yrr.append(y)\n"
   ]
  },
  {
   "cell_type": "code",
   "execution_count": 101,
   "metadata": {},
   "outputs": [
    {
     "data": {
      "text/plain": [
       "6.5658"
      ]
     },
     "execution_count": 101,
     "metadata": {},
     "output_type": "execute_result"
    }
   ],
   "source": [
    "#Average Rate of Return\n",
    "arr = sum(yrr) / len(yrr)\n",
    "round(arr, 4)"
   ]
  },
  {
   "cell_type": "code",
   "execution_count": 88,
   "metadata": {},
   "outputs": [
    {
     "data": {
      "text/html": [
       "<div>\n",
       "<style scoped>\n",
       "    .dataframe tbody tr th:only-of-type {\n",
       "        vertical-align: middle;\n",
       "    }\n",
       "\n",
       "    .dataframe tbody tr th {\n",
       "        vertical-align: top;\n",
       "    }\n",
       "\n",
       "    .dataframe thead th {\n",
       "        text-align: right;\n",
       "    }\n",
       "</style>\n",
       "<table border=\"1\" class=\"dataframe\">\n",
       "  <thead>\n",
       "    <tr style=\"text-align: right;\">\n",
       "      <th></th>\n",
       "      <th>Date</th>\n",
       "      <th>Close</th>\n",
       "      <th>Year</th>\n",
       "    </tr>\n",
       "  </thead>\n",
       "  <tbody>\n",
       "    <tr>\n",
       "      <th>0</th>\n",
       "      <td>2000-12-01</td>\n",
       "      <td>121.650002</td>\n",
       "      <td>2000</td>\n",
       "    </tr>\n",
       "    <tr>\n",
       "      <th>1</th>\n",
       "      <td>2000-12-04</td>\n",
       "      <td>122.550003</td>\n",
       "      <td>2000</td>\n",
       "    </tr>\n",
       "    <tr>\n",
       "      <th>2</th>\n",
       "      <td>2000-12-05</td>\n",
       "      <td>127.330002</td>\n",
       "      <td>2000</td>\n",
       "    </tr>\n",
       "    <tr>\n",
       "      <th>3</th>\n",
       "      <td>2000-12-06</td>\n",
       "      <td>125.029999</td>\n",
       "      <td>2000</td>\n",
       "    </tr>\n",
       "    <tr>\n",
       "      <th>4</th>\n",
       "      <td>2000-12-07</td>\n",
       "      <td>124.309998</td>\n",
       "      <td>2000</td>\n",
       "    </tr>\n",
       "    <tr>\n",
       "      <th>5</th>\n",
       "      <td>2000-12-08</td>\n",
       "      <td>126.750000</td>\n",
       "      <td>2000</td>\n",
       "    </tr>\n",
       "    <tr>\n",
       "      <th>6</th>\n",
       "      <td>2000-12-11</td>\n",
       "      <td>127.720001</td>\n",
       "      <td>2000</td>\n",
       "    </tr>\n",
       "    <tr>\n",
       "      <th>7</th>\n",
       "      <td>2000-12-12</td>\n",
       "      <td>126.900002</td>\n",
       "      <td>2000</td>\n",
       "    </tr>\n",
       "    <tr>\n",
       "      <th>8</th>\n",
       "      <td>2000-12-13</td>\n",
       "      <td>125.889999</td>\n",
       "      <td>2000</td>\n",
       "    </tr>\n",
       "    <tr>\n",
       "      <th>9</th>\n",
       "      <td>2000-12-14</td>\n",
       "      <td>124.120003</td>\n",
       "      <td>2000</td>\n",
       "    </tr>\n",
       "    <tr>\n",
       "      <th>10</th>\n",
       "      <td>2000-12-15</td>\n",
       "      <td>121.459999</td>\n",
       "      <td>2000</td>\n",
       "    </tr>\n",
       "    <tr>\n",
       "      <th>11</th>\n",
       "      <td>2000-12-18</td>\n",
       "      <td>122.440002</td>\n",
       "      <td>2000</td>\n",
       "    </tr>\n",
       "    <tr>\n",
       "      <th>12</th>\n",
       "      <td>2000-12-19</td>\n",
       "      <td>120.860001</td>\n",
       "      <td>2000</td>\n",
       "    </tr>\n",
       "    <tr>\n",
       "      <th>13</th>\n",
       "      <td>2000-12-20</td>\n",
       "      <td>117.080002</td>\n",
       "      <td>2000</td>\n",
       "    </tr>\n",
       "    <tr>\n",
       "      <th>14</th>\n",
       "      <td>2000-12-21</td>\n",
       "      <td>118.019997</td>\n",
       "      <td>2000</td>\n",
       "    </tr>\n",
       "    <tr>\n",
       "      <th>15</th>\n",
       "      <td>2000-12-22</td>\n",
       "      <td>120.519997</td>\n",
       "      <td>2000</td>\n",
       "    </tr>\n",
       "    <tr>\n",
       "      <th>16</th>\n",
       "      <td>2000-12-26</td>\n",
       "      <td>121.370003</td>\n",
       "      <td>2000</td>\n",
       "    </tr>\n",
       "    <tr>\n",
       "      <th>17</th>\n",
       "      <td>2000-12-27</td>\n",
       "      <td>122.660004</td>\n",
       "      <td>2000</td>\n",
       "    </tr>\n",
       "    <tr>\n",
       "      <th>18</th>\n",
       "      <td>2000-12-28</td>\n",
       "      <td>123.150002</td>\n",
       "      <td>2000</td>\n",
       "    </tr>\n",
       "    <tr>\n",
       "      <th>19</th>\n",
       "      <td>2000-12-29</td>\n",
       "      <td>121.860001</td>\n",
       "      <td>2000</td>\n",
       "    </tr>\n",
       "  </tbody>\n",
       "</table>\n",
       "</div>"
      ],
      "text/plain": [
       "         Date       Close  Year\n",
       "0  2000-12-01  121.650002  2000\n",
       "1  2000-12-04  122.550003  2000\n",
       "2  2000-12-05  127.330002  2000\n",
       "3  2000-12-06  125.029999  2000\n",
       "4  2000-12-07  124.309998  2000\n",
       "5  2000-12-08  126.750000  2000\n",
       "6  2000-12-11  127.720001  2000\n",
       "7  2000-12-12  126.900002  2000\n",
       "8  2000-12-13  125.889999  2000\n",
       "9  2000-12-14  124.120003  2000\n",
       "10 2000-12-15  121.459999  2000\n",
       "11 2000-12-18  122.440002  2000\n",
       "12 2000-12-19  120.860001  2000\n",
       "13 2000-12-20  117.080002  2000\n",
       "14 2000-12-21  118.019997  2000\n",
       "15 2000-12-22  120.519997  2000\n",
       "16 2000-12-26  121.370003  2000\n",
       "17 2000-12-27  122.660004  2000\n",
       "18 2000-12-28  123.150002  2000\n",
       "19 2000-12-29  121.860001  2000"
      ]
     },
     "execution_count": 88,
     "metadata": {},
     "output_type": "execute_result"
    }
   ],
   "source": [
    "years.get_group(list_years[0])"
   ]
  },
  {
   "cell_type": "code",
   "execution_count": 91,
   "metadata": {},
   "outputs": [
    {
     "data": {
      "text/plain": [
       "[2018, 2019, 2020, 2021, 2022]"
      ]
     },
     "execution_count": 91,
     "metadata": {},
     "output_type": "execute_result"
    }
   ],
   "source": [
    "list_years[-5:]"
   ]
  },
  {
   "cell_type": "code",
   "execution_count": null,
   "metadata": {},
   "outputs": [],
   "source": []
  }
 ],
 "metadata": {
  "interpreter": {
   "hash": "36aebc9dea34d0897cb9ac1c59ed116ccd03b31354ef30a52ce6250c803e1443"
  },
  "kernelspec": {
   "display_name": "Python 3.9.9 64-bit (windows store)",
   "language": "python",
   "name": "python3"
  },
  "language_info": {
   "codemirror_mode": {
    "name": "ipython",
    "version": 3
   },
   "file_extension": ".py",
   "mimetype": "text/x-python",
   "name": "python",
   "nbconvert_exporter": "python",
   "pygments_lexer": "ipython3",
   "version": "3.9.9"
  },
  "orig_nbformat": 4
 },
 "nbformat": 4,
 "nbformat_minor": 2
}
